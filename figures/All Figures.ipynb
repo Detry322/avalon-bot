{
 "cells": [
  {
   "cell_type": "markdown",
   "metadata": {},
   "source": [
    "# Figures for the paper\n",
    "\n",
    "Most figure generation code is in `display.py`, data loading code in `data.py`.\n",
    "\n",
    "## Part 1: Training figures\n",
    "\n",
    "- [ ] Training curves as a function of data\n",
    "- [ ] Last layer training loss for old and new model\n",
    "- [ ] Second to last layer training loss for old and new model\n",
    "- [ ] Total loss by layer (old vs. new)\n",
    "\n",
    "## Part 2: Bot vs. Bot Comparisons\n",
    "\n",
    "- [ ] DR100 vs DR30 vs DR10 [DR vs. itself]\n",
    "    - [ ] Triangle chart\n",
    "    - [ ] Payoff table\n",
    "- [ ] DR100 vs CFR6K (vs DeepStack todo) [DR vs. existing methods]\n",
    "    - [ ] Line chart (Triangle w/ DeepStack)\n",
    "    - [ ] Payoff table\n",
    "- [ ] DR100 vs ObserveBot vs MOISMCTS [DR vs. \"Avalon\" Bots]\n",
    "    - [ ] Triangle chart\n",
    "    - [ ] Payoff table\n",
    "    \n",
    "## Part 3: Human vs. Bot Comparisons\n",
    "\n",
    "- [ ] Win rate table\n",
    "    - [ ] Overall\n",
    "    - [ ] By role\n",
    "- [ ] Wellman analysis\n",
    "    - [ ] Payoff Table\n",
    "    - [ ] Line chart"
   ]
  },
  {
   "cell_type": "code",
   "execution_count": 4,
   "metadata": {},
   "outputs": [],
   "source": [
    "%matplotlib inline\n",
    "\n",
    "import matplotlib.pyplot as plt\n",
    "import numpy as np\n",
    "import pandas as pd\n",
    "\n",
    "from display import (\n",
    "    pd\n",
    ")\n",
    "from data import (\n",
    "    gzip\n",
    ")"
   ]
  },
  {
   "cell_type": "markdown",
   "metadata": {},
   "source": [
    "# Part 1: Training figures"
   ]
  },
  {
   "cell_type": "markdown",
   "metadata": {},
   "source": [
    "## Training curves as a function of data"
   ]
  },
  {
   "cell_type": "code",
   "execution_count": null,
   "metadata": {},
   "outputs": [],
   "source": []
  }
 ],
 "metadata": {
  "kernelspec": {
   "display_name": "Python 2",
   "language": "python",
   "name": "python2"
  },
  "language_info": {
   "codemirror_mode": {
    "name": "ipython",
    "version": 2
   },
   "file_extension": ".py",
   "mimetype": "text/x-python",
   "name": "python",
   "nbconvert_exporter": "python",
   "pygments_lexer": "ipython2",
   "version": "2.7.10"
  }
 },
 "nbformat": 4,
 "nbformat_minor": 2
}
